{
 "cells": [
  {
   "cell_type": "markdown",
   "metadata": {},
   "source": [
    "# Class Tournament"
   ]
  },
  {
   "cell_type": "code",
   "execution_count": 1,
   "metadata": {
    "collapsed": false
   },
   "outputs": [],
   "source": [
    "import random as rand\n",
    "from tabulate import tabulate\n",
    "from Match import Match, name, print_history\n",
    "from Cooperate import Cooperate\n",
    "from Defect import Defect\n",
    "from Flipper import Flipper\n",
    "from TitForTat import TitForTat\n",
    "\n",
    "cooperate = Cooperate()\n",
    "defect = Defect()\n",
    "flipper = Flipper()\n",
    "titForTat = TitForTat()"
   ]
  },
  {
   "cell_type": "code",
   "execution_count": 2,
   "metadata": {
    "collapsed": false
   },
   "outputs": [
    {
     "name": "stdout",
     "output_type": "stream",
     "text": [
      "['<AverageTitForTat.AverageTitForTat instance at 0x0000000003F88A08>', '<CheckAndChoose.CheckAndChoose instance at 0x0000000003F88B08>', '<dbTriCon.dbTriCon instance at 0x0000000003F88AC8>', '<fifty_good.fifty_is_good instance at 0x00000000044D7F08>', '<Patrick.Patrick instance at 0x00000000044D7F88>', '<scummyPrisoner.scummyPrisoner instance at 0x00000000044DF5C8>', '<Smart.Smart instance at 0x00000000044DF608>', '<suspiciousProbingTFT.SPTFT instance at 0x00000000044DF648>', '<TFTMemory.TFTMemory instance at 0x00000000044DF688>', '<TitForTwoTats.TitForTwoTats instance at 0x00000000044DF6C8>', '<Trustworthy.Trustworthy instance at 0x00000000044DF708>', '<Cooperate.Cooperate instance at 0x0000000003F68548>', '<Defect.Defect instance at 0x0000000003F68788>', '<Flipper.Flipper instance at 0x0000000003F68708>', '<TitForTat.TitForTat instance at 0x0000000003F686C8>', '<ResponsiveTFTMod.ResponsiveTFTMod instance at 0x00000000044DF748>', '<suspiciousTitForTat.suspiciousTitForTat instance at 0x00000000044DF788>', '<Worse_TitForTat_Leon.Worse_TitForTat_Leon instance at 0x00000000044DF7C8>']\n",
      "['<AverageTitForTat.AverageTitForTat instance at 0x0000000003F88A08>', '<CheckAndChoose.CheckAndChoose instance at 0x0000000003F88B08>', '<dbTriCon.dbTriCon instance at 0x0000000003F88AC8>', '<fifty_good.fifty_is_good instance at 0x00000000044D7F08>', '<Patrick.Patrick instance at 0x00000000044D7F88>', '<scummyPrisoner.scummyPrisoner instance at 0x00000000044DF5C8>', '<Smart.Smart instance at 0x00000000044DF608>', '<suspiciousProbingTFT.SPTFT instance at 0x00000000044DF648>', '<TFTMemory.TFTMemory instance at 0x00000000044DF688>', '<TitForTwoTats.TitForTwoTats instance at 0x00000000044DF6C8>', '<Trustworthy.Trustworthy instance at 0x00000000044DF708>', '<Cooperate.Cooperate instance at 0x0000000003F68548>', '<Defect.Defect instance at 0x0000000003F68788>', '<Flipper.Flipper instance at 0x0000000003F68708>', '<TitForTat.TitForTat instance at 0x0000000003F686C8>', '<ResponsiveTFTMod.ResponsiveTFTMod instance at 0x00000000044DF748>', '<suspiciousTitForTat.suspiciousTitForTat instance at 0x00000000044DF788>', '<Worse_TitForTat_Leon.Worse_TitForTat_Leon instance at 0x00000000044DF7C8>']\n"
     ]
    }
   ],
   "source": [
    "# Import everyone's rules\n",
    "from AverageTitForTat import AverageTitForTat\n",
    "from CheckAndChoose import CheckAndChoose, np\n",
    "from dbTriCon import dbTriCon\n",
    "from fifty_good import fifty_is_good\n",
    "from Patrick import Patrick\n",
    "from scummyPrisoner import scummyPrisoner\n",
    "from Smart import random, Smart\n",
    "from suspiciousProbingTFT import random, SPTFT\n",
    "from TFTMemory import random, TFTMemory\n",
    "from TitForTwoTats import TitForTwoTats\n",
    "from Trustworthy import random, Trustworthy\n",
    "from ResponsiveTFTMod import ResponsiveTFTMod\n",
    "from suspiciousTitForTat import suspiciousTitForTat\n",
    "from Worse_TitForTat_Leon import Worse_TitForTat_Leon\n",
    "\n",
    "averageTitForTat = AverageTitForTat()\n",
    "checkAndChoose = CheckAndChoose()\n",
    "dBTriCon = dbTriCon()\n",
    "fifty_good = fifty_is_good()\n",
    "patrick = Patrick()\n",
    "scummy_Prisoner = scummyPrisoner()\n",
    "smart = Smart()\n",
    "susProbingTFT = SPTFT()\n",
    "tftMemory = TFTMemory()\n",
    "titForTwoTats = TitForTwoTats()\n",
    "trustworthy = Trustworthy()\n",
    "responsiveTFTMod = ResponsiveTFTMod()\n",
    "susTitForTat = suspiciousTitForTat()\n",
    "Worse_TitForTat_Leon = Worse_TitForTat_Leon()\n",
    "\n",
    "rule_list = [averageTitForTat, checkAndChoose, dBTriCon, fifty_good, patrick, scummy_Prisoner, smart, susProbingTFT, tftMemory, titForTwoTats, trustworthy, cooperate, defect, flipper, titForTat, responsiveTFTMod, susTitForTat, Worse_TitForTat_Leon]\n",
    "print([str(k) for k in rule_list])\n",
    "for k in rule_list:\n",
    "    k.name = str(k)\n",
    "print([k.name for k in rule_list])"
   ]
  },
  {
   "cell_type": "code",
   "execution_count": 5,
   "metadata": {
    "collapsed": false
   },
   "outputs": [],
   "source": [
    "class Tournament():\n",
    "\n",
    "    def __init__(self, rule_list, length, identical_match=False):\n",
    "        self.rule_list = rule_list\n",
    "        self.length = length\n",
    "        self.identical_match = identical_match\n",
    "        \n",
    "        self.match_scores = []\n",
    "        self.rule_scores = {}\n",
    "        self.win_diff = []\n",
    "        self.wins = []\n",
    "        \n",
    "        for rule in self.rule_list:\n",
    "#             print(name(rule))\n",
    "            self.rule_scores[rule.name] = []\n",
    "\n",
    "    def run(self):\n",
    "        for match in self.match_gen():\n",
    "            match.run()\n",
    "            score = match.score()\n",
    "#             self.rule_scores[name(match.rule0)][name(match.rule1)] = score[match.rule0.order]\n",
    "#             self.rule_scores[name(match.rule1)][name(match.rule0)] = score[match.rule1.order]\n",
    "#             self.match_scores[match.name] = score\n",
    "            self.match_scores.append((match.name, score))\n",
    "    \n",
    "            self.rule_scores[match.rule0.name].append(score)\n",
    "            self.rule_scores[match.rule1.name].append(score[::-1])\n",
    "\n",
    "    def match_gen(self):\n",
    "        ''' Generator function to return initialized matches from the list of rules'''\n",
    "        l = range(len(self.rule_list))\n",
    "        if self.identical_match:\n",
    "            n = 0\n",
    "        else:\n",
    "            n = 1\n",
    "        for i in l:\n",
    "            for j in l:\n",
    "                \n",
    "                if j < i+n:\n",
    "                    continue\n",
    "                else:\n",
    "                    new_match = Match(self.rule_list[i], self.rule_list[j], self.length)\n",
    "                    yield new_match\n",
    "                    \n",
    "    def all_scores(self):\n",
    "        \n",
    "        self.score_loss_wins()\n",
    "        pass\n",
    "        \n",
    "    \n",
    "    def sort_rule_score(self):\n",
    "        \n",
    "        [scores.sort(reverse=True) for key, scores in self.match_scores.items()]\n",
    "    \n",
    "    def score_loss_wins(self):\n",
    "        ''' Perform scorings based on number of wins/losses/draws. '''\n",
    "        for rule, scores in self.rule_scores.items():\n",
    "            new_scores = [(score[0]-score[1]) for score in scores]\n",
    "            self.win_diff.append((rule, new_scores))\n",
    "            \n",
    "            win = sum([1 if (score>0) else 0 for score in new_scores])\n",
    "            draw = sum([1 if (score==0) else 0 for score in new_scores])\n",
    "            loss = sum([1 if (score<0) else 0 for score in new_scores])\n",
    "            self.wins.append((rule, win, draw, loss))    "
   ]
  },
  {
   "cell_type": "code",
   "execution_count": 6,
   "metadata": {
    "collapsed": false
   },
   "outputs": [],
   "source": [
    "t = Tournament(rule_list, 100)\n",
    "t.run()\n",
    "t.all_scores()"
   ]
  },
  {
   "cell_type": "markdown",
   "metadata": {
    "collapsed": true
   },
   "source": [
    "## Wins, Losses, and Draws"
   ]
  },
  {
   "cell_type": "code",
   "execution_count": 7,
   "metadata": {
    "collapsed": false
   },
   "outputs": [
    {
     "name": "stdout",
     "output_type": "stream",
     "text": [
      "Wins                                                                                     Draws                                                                                    Losses\n",
      "---------------------------------------------------------------------------------------  ---------------------------------------------------------------------------------------  ---------------------------------------------------------------------------------------\n",
      "('<Defect.Defect instance at 0x0000000003F68788>', 13, 4, 0)                             ('<suspiciousTitForTat.suspiciousTitForTat instance at 0x00000000044DF788>', 7, 10, 0)   ('<TitForTwoTats.TitForTwoTats instance at 0x00000000044DF6C8>', 0, 2, 15)\n",
      "('<scummyPrisoner.scummyPrisoner instance at 0x00000000044DF5C8>', 12, 5, 0)             ('<TitForTat.TitForTat instance at 0x0000000003F686C8>', 0, 10, 7)                       ('<Cooperate.Cooperate instance at 0x0000000003F68548>', 0, 2, 15)\n",
      "('<Patrick.Patrick instance at 0x00000000044D7F88>', 11, 2, 4)                           ('<AverageTitForTat.AverageTitForTat instance at 0x0000000003F88A08>', 10, 7, 0)         ('<fifty_good.fifty_is_good instance at 0x00000000044D7F08>', 2, 1, 14)\n",
      "('<ResponsiveTFTMod.ResponsiveTFTMod instance at 0x00000000044DF748>', 11, 6, 0)         ('<TFTMemory.TFTMemory instance at 0x00000000044DF688>', 5, 7, 5)                        ('<suspiciousProbingTFT.SPTFT instance at 0x00000000044DF648>', 6, 2, 9)\n",
      "('<AverageTitForTat.AverageTitForTat instance at 0x0000000003F88A08>', 10, 7, 0)         ('<dbTriCon.dbTriCon instance at 0x0000000003F88AC8>', 6, 6, 5)                          ('<Trustworthy.Trustworthy instance at 0x00000000044DF708>', 6, 2, 9)\n",
      "('<suspiciousTitForTat.suspiciousTitForTat instance at 0x00000000044DF788>', 7, 10, 0)   ('<ResponsiveTFTMod.ResponsiveTFTMod instance at 0x00000000044DF748>', 11, 6, 0)         ('<Flipper.Flipper instance at 0x0000000003F68708>', 4, 4, 9)\n",
      "('<Worse_TitForTat_Leon.Worse_TitForTat_Leon instance at 0x00000000044DF7C8>', 7, 5, 5)  ('<scummyPrisoner.scummyPrisoner instance at 0x00000000044DF5C8>', 12, 5, 0)             ('<CheckAndChoose.CheckAndChoose instance at 0x0000000003F88B08>', 7, 1, 9)\n",
      "('<CheckAndChoose.CheckAndChoose instance at 0x0000000003F88B08>', 7, 1, 9)              ('<Worse_TitForTat_Leon.Worse_TitForTat_Leon instance at 0x00000000044DF7C8>', 7, 5, 5)  ('<Smart.Smart instance at 0x00000000044DF608>', 6, 4, 7)\n",
      "('<suspiciousProbingTFT.SPTFT instance at 0x00000000044DF648>', 6, 2, 9)                 ('<Flipper.Flipper instance at 0x0000000003F68708>', 4, 4, 9)                            ('<TitForTat.TitForTat instance at 0x0000000003F686C8>', 0, 10, 7)\n",
      "('<Trustworthy.Trustworthy instance at 0x00000000044DF708>', 6, 2, 9)                    ('<Smart.Smart instance at 0x00000000044DF608>', 6, 4, 7)                                ('<Worse_TitForTat_Leon.Worse_TitForTat_Leon instance at 0x00000000044DF7C8>', 7, 5, 5)\n",
      "('<dbTriCon.dbTriCon instance at 0x0000000003F88AC8>', 6, 6, 5)                          ('<Defect.Defect instance at 0x0000000003F68788>', 13, 4, 0)                             ('<dbTriCon.dbTriCon instance at 0x0000000003F88AC8>', 6, 6, 5)\n",
      "('<Smart.Smart instance at 0x00000000044DF608>', 6, 4, 7)                                ('<suspiciousProbingTFT.SPTFT instance at 0x00000000044DF648>', 6, 2, 9)                 ('<TFTMemory.TFTMemory instance at 0x00000000044DF688>', 5, 7, 5)\n",
      "('<TFTMemory.TFTMemory instance at 0x00000000044DF688>', 5, 7, 5)                        ('<Trustworthy.Trustworthy instance at 0x00000000044DF708>', 6, 2, 9)                    ('<Patrick.Patrick instance at 0x00000000044D7F88>', 11, 2, 4)\n",
      "('<Flipper.Flipper instance at 0x0000000003F68708>', 4, 4, 9)                            ('<Patrick.Patrick instance at 0x00000000044D7F88>', 11, 2, 4)                           ('<suspiciousTitForTat.suspiciousTitForTat instance at 0x00000000044DF788>', 7, 10, 0)\n",
      "('<fifty_good.fifty_is_good instance at 0x00000000044D7F08>', 2, 1, 14)                  ('<TitForTwoTats.TitForTwoTats instance at 0x00000000044DF6C8>', 0, 2, 15)               ('<scummyPrisoner.scummyPrisoner instance at 0x00000000044DF5C8>', 12, 5, 0)\n",
      "('<TitForTwoTats.TitForTwoTats instance at 0x00000000044DF6C8>', 0, 2, 15)               ('<Cooperate.Cooperate instance at 0x0000000003F68548>', 0, 2, 15)                       ('<AverageTitForTat.AverageTitForTat instance at 0x0000000003F88A08>', 10, 7, 0)\n",
      "('<Cooperate.Cooperate instance at 0x0000000003F68548>', 0, 2, 15)                       ('<CheckAndChoose.CheckAndChoose instance at 0x0000000003F88B08>', 7, 1, 9)              ('<ResponsiveTFTMod.ResponsiveTFTMod instance at 0x00000000044DF748>', 11, 6, 0)\n",
      "('<TitForTat.TitForTat instance at 0x0000000003F686C8>', 0, 10, 7)                       ('<fifty_good.fifty_is_good instance at 0x00000000044D7F08>', 2, 1, 14)                  ('<Defect.Defect instance at 0x0000000003F68788>', 13, 4, 0)\n"
     ]
    }
   ],
   "source": [
    "s_w = sorted(t.wins, key=lambda x: x[1], reverse=True)\n",
    "s_d = sorted(t.wins, key=lambda x: x[2], reverse=True)\n",
    "s_l = sorted(t.wins, key=lambda x: x[3], reverse=True)\n",
    "\n",
    "headers = ['Wins', 'Draws', 'Losses']\n",
    "\n",
    "print(tabulate([[s_w[i], s_d[i], s_l[i]] for i in range(len(s_w))], headers=headers))"
   ]
  },
  {
   "cell_type": "markdown",
   "metadata": {},
   "source": [
    "## Raw Points"
   ]
  },
  {
   "cell_type": "markdown",
   "metadata": {},
   "source": [
    "#### Maximum Points in a Match"
   ]
  },
  {
   "cell_type": "code",
   "execution_count": 8,
   "metadata": {
    "collapsed": false
   },
   "outputs": [
    {
     "name": "stdout",
     "output_type": "stream",
     "text": [
      "Rule                      Total Points\n",
      "------------------------  ---------------------------------\n",
      "('instance', [0, 500])    ('instance-instance', [300, 300])\n",
      "('instance', [0, 500])    ('instance-instance', [300, 300])\n",
      "('instance', [500, 0])    ('instance-instance', [300, 300])\n",
      "('instance', [0, 500])    ('instance-instance', [302, 297])\n",
      "('instance', [498, 3])    ('instance-instance', [302, 297])\n",
      "('instance', [494, 9])    ('instance-instance', [302, 297])\n",
      "('instance', [490, 15])   ('instance-instance', [297, 302])\n",
      "('instance', [13, 488])   ('instance-instance', [302, 297])\n",
      "('instance', [474, 24])   ('instance-instance', [302, 297])\n",
      "('instance', [471, 21])   ('instance-instance', [297, 302])\n",
      "('instance', [20, 470])   ('instance-instance', [297, 302])\n",
      "('instance', [420, 20])   ('instance-instance', [297, 302])\n",
      "('instance', [20, 420])   ('instance-instance', [297, 302])\n",
      "('instance', [413, 33])   ('instance-instance', [297, 302])\n",
      "('instance', [411, 36])   ('instance-instance', [304, 294])\n",
      "('instance', [150, 400])  ('instance-instance', [299, 299])\n",
      "('instance', [150, 400])  ('instance-instance', [294, 304])\n",
      "('instance', [151, 396])  ('instance-instance', [300, 295])\n",
      "('instance', [198, 368])  ('instance-instance', [297, 297])\n",
      "('instance', [198, 368])  ('instance-instance', [312, 282])\n",
      "('instance', [198, 368])  ('instance-instance', [279, 314])\n",
      "('instance', [231, 341])  ('instance-instance', [294, 299])\n",
      "('instance', [240, 340])  ('instance-instance', [299, 294])\n",
      "('instance', [340, 240])  ('instance-instance', [294, 299])\n",
      "('instance', [242, 337])  ('instance-instance', [313, 278])\n",
      "('instance', [336, 146])  ('instance-instance', [300, 290])\n",
      "('instance', [244, 334])  ('instance-instance', [328, 258])\n",
      "('instance', [333, 238])  ('instance-instance', [295, 290])\n",
      "('instance', [180, 330])  ('instance-instance', [291, 291])\n",
      "('instance', [328, 258])  ('instance-instance', [288, 293])\n",
      "('instance', [247, 327])  ('instance-instance', [288, 293])\n",
      "('instance', [192, 327])  ('instance-instance', [240, 340])\n",
      "('instance', [252, 317])  ('instance-instance', [340, 240])\n",
      "('instance', [255, 315])  ('instance-instance', [242, 337])\n",
      "('instance', [279, 314])  ('instance-instance', [244, 334])\n",
      "('instance', [313, 278])  ('instance-instance', [247, 327])\n",
      "('instance', [312, 282])  ('instance-instance', [231, 341])\n",
      "('instance', [304, 294])  ('instance-instance', [333, 238])\n",
      "('instance', [294, 304])  ('instance-instance', [255, 315])\n",
      "('instance', [302, 297])  ('instance-instance', [252, 317])\n",
      "('instance', [302, 297])  ('instance-instance', [198, 368])\n",
      "('instance', [302, 297])  ('instance-instance', [198, 368])\n",
      "('instance', [297, 302])  ('instance-instance', [198, 368])\n",
      "('instance', [302, 297])  ('instance-instance', [283, 278])\n",
      "('instance', [302, 297])  ('instance-instance', [280, 280])\n",
      "('instance', [297, 302])  ('instance-instance', [279, 279])\n",
      "('instance', [297, 302])  ('instance-instance', [150, 400])\n",
      "('instance', [297, 302])  ('instance-instance', [150, 400])\n",
      "('instance', [297, 302])  ('instance-instance', [294, 254])\n",
      "('instance', [297, 302])  ('instance-instance', [151, 396])\n",
      "('instance', [300, 295])  ('instance-instance', [299, 244])\n",
      "('instance', [300, 290])  ('instance-instance', [267, 267])\n",
      "('instance', [300, 50])   ('instance-instance', [262, 267])\n",
      "('instance', [300, 300])  ('instance-instance', [192, 327])\n",
      "('instance', [300, 300])  ('instance-instance', [180, 330])\n",
      "('instance', [300, 300])  ('instance-instance', [490, 15])\n",
      "('instance', [300, 50])   ('instance-instance', [494, 9])\n",
      "('instance', [299, 54])   ('instance-instance', [13, 488])\n",
      "('instance', [299, 299])  ('instance-instance', [498, 3])\n",
      "('instance', [294, 299])  ('instance-instance', [250, 250])\n",
      "('instance', [299, 294])  ('instance-instance', [0, 500])\n",
      "('instance', [294, 299])  ('instance-instance', [0, 500])\n",
      "('instance', [299, 244])  ('instance-instance', [500, 0])\n",
      "('instance', [297, 297])  ('instance-instance', [250, 250])\n",
      "('instance', [295, 290])  ('instance-instance', [250, 250])\n",
      "('instance', [294, 254])  ('instance-instance', [0, 500])\n",
      "('instance', [288, 293])  ('instance-instance', [250, 250])\n",
      "('instance', [288, 293])  ('instance-instance', [250, 250])\n",
      "('instance', [292, 67])   ('instance-instance', [250, 250])\n",
      "('instance', [291, 291])  ('instance-instance', [474, 24])\n",
      "('instance', [283, 278])  ('instance-instance', [249, 249])\n",
      "('instance', [280, 280])  ('instance-instance', [251, 246])\n",
      "('instance', [279, 279])  ('instance-instance', [246, 251])\n",
      "('instance', [267, 267])  ('instance-instance', [471, 21])\n",
      "('instance', [262, 267])  ('instance-instance', [248, 243])\n",
      "('instance', [182, 267])  ('instance-instance', [20, 470])\n",
      "('instance', [260, 205])  ('instance-instance', [336, 146])\n",
      "('instance', [251, 246])  ('instance-instance', [260, 205])\n",
      "('instance', [246, 251])  ('instance-instance', [182, 267])\n",
      "('instance', [250, 250])  ('instance-instance', [411, 36])\n",
      "('instance', [250, 250])  ('instance-instance', [413, 33])\n",
      "('instance', [250, 250])  ('instance-instance', [420, 20])\n",
      "('instance', [250, 250])  ('instance-instance', [20, 420])\n",
      "('instance', [250, 250])  ('instance-instance', [214, 219])\n",
      "('instance', [250, 250])  ('instance-instance', [201, 201])\n",
      "('instance', [249, 249])  ('instance-instance', [198, 203])\n",
      "('instance', [248, 243])  ('instance-instance', [198, 203])\n",
      "('instance', [214, 219])  ('instance-instance', [196, 196])\n",
      "('instance', [203, 188])  ('instance-instance', [203, 188])\n",
      "('instance', [198, 203])  ('instance-instance', [292, 67])\n",
      "('instance', [198, 203])  ('instance-instance', [299, 54])\n",
      "('instance', [201, 201])  ('instance-instance', [300, 50])\n",
      "('instance', [196, 196])  ('instance-instance', [300, 50])\n",
      "('instance', [169, 169])  ('instance-instance', [169, 169])\n",
      "('instance', [153, 168])  ('instance-instance', [153, 168])\n",
      "('instance', [152, 127])  ('instance-instance', [152, 127])\n",
      "('instance', [108, 143])  ('instance-instance', [134, 129])\n",
      "('instance', [136, 101])  ('instance-instance', [108, 143])\n",
      "('instance', [134, 129])  ('instance-instance', [136, 101])\n",
      "('instance', [130, 105])  ('instance-instance', [130, 105])\n",
      "('instance', [97, 127])   ('instance-instance', [115, 115])\n",
      "('instance', [124, 94])   ('instance-instance', [115, 110])\n",
      "('instance', [94, 124])   ('instance-instance', [112, 112])\n",
      "('instance', [95, 120])   ('instance-instance', [97, 127])\n",
      "('instance', [95, 120])   ('instance-instance', [116, 106])\n",
      "('instance', [120, 95])   ('instance-instance', [108, 113])\n",
      "('instance', [116, 106])  ('instance-instance', [112, 107])\n",
      "('instance', [115, 110])  ('instance-instance', [124, 94])\n",
      "('instance', [115, 115])  ('instance-instance', [94, 124])\n",
      "('instance', [108, 113])  ('instance-instance', [95, 120])\n",
      "('instance', [112, 107])  ('instance-instance', [95, 120])\n",
      "('instance', [112, 112])  ('instance-instance', [110, 105])\n",
      "('instance', [110, 105])  ('instance-instance', [120, 95])\n",
      "('instance', [105, 110])  ('instance-instance', [105, 110])\n",
      "('instance', [108, 98])   ('instance-instance', [105, 105])\n",
      "('instance', [98, 108])   ('instance-instance', [107, 102])\n",
      "('instance', [107, 102])  ('instance-instance', [107, 102])\n",
      "('instance', [107, 102])  ('instance-instance', [107, 102])\n",
      "('instance', [107, 102])  ('instance-instance', [107, 102])\n",
      "('instance', [107, 102])  ('instance-instance', [102, 107])\n",
      "('instance', [102, 107])  ('instance-instance', [102, 107])\n",
      "('instance', [102, 107])  ('instance-instance', [107, 102])\n",
      "('instance', [107, 102])  ('instance-instance', [103, 103])\n",
      "('instance', [105, 105])  ('instance-instance', [103, 103])\n",
      "('instance', [99, 104])   ('instance-instance', [108, 98])\n",
      "('instance', [99, 104])   ('instance-instance', [103, 103])\n",
      "('instance', [99, 104])   ('instance-instance', [98, 108])\n",
      "('instance', [99, 104])   ('instance-instance', [99, 104])\n",
      "('instance', [104, 99])   ('instance-instance', [99, 104])\n",
      "('instance', [104, 99])   ('instance-instance', [99, 104])\n",
      "('instance', [104, 99])   ('instance-instance', [99, 104])\n",
      "('instance', [99, 104])   ('instance-instance', [104, 99])\n",
      "('instance', [99, 104])   ('instance-instance', [104, 99])\n",
      "('instance', [104, 99])   ('instance-instance', [104, 99])\n",
      "('instance', [104, 99])   ('instance-instance', [99, 104])\n",
      "('instance', [103, 103])  ('instance-instance', [99, 104])\n",
      "('instance', [103, 103])  ('instance-instance', [104, 99])\n",
      "('instance', [103, 103])  ('instance-instance', [104, 99])\n",
      "('instance', [100, 100])  ('instance-instance', [100, 100])\n",
      "('instance', [100, 100])  ('instance-instance', [100, 100])\n",
      "('instance', [100, 100])  ('instance-instance', [100, 100])\n",
      "('instance', [100, 100])  ('instance-instance', [100, 100])\n",
      "('instance', [100, 100])  ('instance-instance', [100, 100])\n",
      "('instance', [100, 100])  ('instance-instance', [100, 100])\n",
      "('instance', [100, 100])  ('instance-instance', [100, 100])\n",
      "('instance', [100, 100])  ('instance-instance', [100, 100])\n",
      "('instance', [100, 100])  ('instance-instance', [100, 100])\n",
      "('instance', [100, 100])  ('instance-instance', [100, 100])\n",
      "('instance', [100, 100])  ('instance-instance', [100, 100])\n",
      "('instance', [100, 100])  ('instance-instance', [100, 100])\n",
      "('instance', [100, 100])  ('instance-instance', [100, 100])\n",
      "('instance', [100, 100])  ('instance-instance', [100, 100])\n",
      "('instance', [100, 100])  ('instance-instance', [100, 100])\n"
     ]
    }
   ],
   "source": [
    "s_ind = sorted(t.match_scores, key=lambda x: max(x[1]), reverse=True)\n",
    "s_col = sorted(t.match_scores, key=lambda x: sum(x[1]), reverse=True)\n",
    "\n",
    "headers = ['Individual', 'Collective']\n",
    "\n",
    "tab_list = []\n",
    "for i in range(len(s_ind)):\n",
    "    split = s_ind[i][0].split('-')\n",
    "    if s_ind[i][1][0] > s_ind[i][1][1]:\n",
    "        rule = split[0]\n",
    "    else:\n",
    "        rule = split[1]\n",
    "    \n",
    "    indiv = (rule, s_ind[i][1])\n",
    "    tab_list.append([indiv, s_col[i]])\n",
    "#     tab_list.append([s_ind[i], s_col[i]])\n",
    "\n",
    "print(tabulate(tab_list, headers=['Rule', 'Total Points', 'Average Points']))"
   ]
  },
  {
   "cell_type": "markdown",
   "metadata": {},
   "source": [
    "#### Maximum Total Points"
   ]
  },
  {
   "cell_type": "code",
   "execution_count": 22,
   "metadata": {
    "collapsed": false
   },
   "outputs": [
    {
     "name": "stdout",
     "output_type": "stream",
     "text": [
      "Rule        Total Points    Average Points\n",
      "--------  --------------  ----------------\n",
      "instance           54484               200\n"
     ]
    }
   ],
   "source": [
    "max_list = []\n",
    "\n",
    "for rule, scores in t.rule_scores.items():\n",
    "    total = str(sum([score[0] for score in scores]))\n",
    "    avg = str(sum([score[0] for score in scores])/len(scores))\n",
    "    max_list.append([rule, total, avg])\n",
    "\n",
    "max_list.sort(key=lambda x: x[1], reverse=True)\n",
    "print(tabulate(max_list, headers=['Rule', 'Total Points', 'Average Points']))"
   ]
  },
  {
   "cell_type": "markdown",
   "metadata": {},
   "source": [
    "## Point Differences\n",
    "Which rule won by the most points on average? \n",
    "Which lost by the least on average?"
   ]
  },
  {
   "cell_type": "code",
   "execution_count": 23,
   "metadata": {
    "collapsed": false
   },
   "outputs": [
    {
     "name": "stdout",
     "output_type": "stream",
     "text": [
      "Won by Most            Lost by Least\n",
      "---------------------  ---------------------\n",
      "['instance', '11580']  ['instance', '11580']\n"
     ]
    }
   ],
   "source": [
    "t.rule_scores\n",
    "\n",
    "gr_diff_list = []\n",
    "le_diff_list = []\n",
    "l = len(t.rule_scores)\n",
    "for rule, scores in t.rule_scores.items():\n",
    "    grs = 0\n",
    "    les = 0\n",
    "    for score in scores:\n",
    "        if score[0] > score[1]:\n",
    "            grs += score[0] - score[1] \n",
    "        elif score[1] > score[0]:\n",
    "            les += score[1] - score[0]\n",
    "    gr_diff_list.append([rule, str(grs/l)])\n",
    "    le_diff_list.append([rule, str(les/l)])\n",
    "        \n",
    "gr_diff_list.sort(key=lambda x: float(x[1]), reverse=True)\n",
    "le_diff_list.sort(key=lambda x: float(x[1]))\n",
    "\n",
    "diff_list = []\n",
    "for i in range(len(gr_diff_list)):\n",
    "    diff_list.append([gr_diff_list[i], le_diff_list[i]])\n",
    "\n",
    "headers = ['Won by Most', 'Lost by Least']\n",
    "\n",
    "print(tabulate(diff_list, headers=headers))"
   ]
  },
  {
   "cell_type": "code",
   "execution_count": null,
   "metadata": {
    "collapsed": true
   },
   "outputs": [],
   "source": []
  },
  {
   "cell_type": "code",
   "execution_count": null,
   "metadata": {
    "collapsed": true
   },
   "outputs": [],
   "source": []
  },
  {
   "cell_type": "code",
   "execution_count": null,
   "metadata": {
    "collapsed": true
   },
   "outputs": [],
   "source": []
  },
  {
   "cell_type": "code",
   "execution_count": null,
   "metadata": {
    "collapsed": true
   },
   "outputs": [],
   "source": []
  },
  {
   "cell_type": "code",
   "execution_count": null,
   "metadata": {
    "collapsed": true
   },
   "outputs": [],
   "source": []
  },
  {
   "cell_type": "code",
   "execution_count": null,
   "metadata": {
    "collapsed": true
   },
   "outputs": [],
   "source": []
  }
 ],
 "metadata": {
  "anaconda-cloud": {},
  "kernelspec": {
   "display_name": "Python [Root]",
   "language": "python",
   "name": "Python [Root]"
  },
  "language_info": {
   "codemirror_mode": {
    "name": "ipython",
    "version": 2
   },
   "file_extension": ".py",
   "mimetype": "text/x-python",
   "name": "python",
   "nbconvert_exporter": "python",
   "pygments_lexer": "ipython2",
   "version": "2.7.12"
  }
 },
 "nbformat": 4,
 "nbformat_minor": 1
}
